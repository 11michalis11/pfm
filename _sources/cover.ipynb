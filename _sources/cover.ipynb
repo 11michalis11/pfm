{
 "cells": [
  {
   "cell_type": "markdown",
   "metadata": {},
   "source": [
    "# Python for Mathematics\n",
    "\n",
    "```{figure} ./img/cover/main.png\n",
    "---\n",
    "width: 50%\n",
    "---\n",
    "```\n",
    "\n",
    "\n",
    "\n",
    "```{toctree}\n",
    ":hidden:\n",
    ":titlesonly:\n",
    ":caption: Overview\n",
    "\n",
    "overview/introduction/main\n",
    "```\n",
    "\n",
    "\n",
    "```{toctree}\n",
    ":hidden:\n",
    ":titlesonly:\n",
    ":caption: Tools for mathematics\n",
    "\n",
    "chapters/01-using-notebooks/introduction/main\n",
    "chapters/02-algebra/introduction/main\n",
    "chapters/03-calculus/introduction/main\n",
    "chapters/04-matrices/introduction/main\n",
    "chapters/05-combinations-permutations/introduction/main\n",
    "chapters/06-probability/introduction/main\n",
    "chapters/07-sequences/introduction/main\n",
    "```\n",
    "\n",
    "\n",
    "```{toctree}\n",
    ":hidden:\n",
    ":titlesonly:\n",
    ":caption: Building tools\n",
    "\n",
    "chapters/08-variables-conditionals-loops/introduction/main\n",
    "chapters/09-functions-and-data-structures/introduction/main\n",
    "```\n",
    "\n",
    "\n",
    "```{toctree}\n",
    ":hidden:\n",
    ":titlesonly:\n",
    ":caption: Appendix\n",
    "\n",
    "appendix/01-numpy/introduction/main\n",
    "appendix/02-matplotlib/introduction/main\n",
    "```"
   ]
  }
 ],
 "metadata": {
  "jupytext": {
   "formats": "ipynb,md:myst",
   "text_representation": {
    "extension": ".md",
    "format_name": "myst",
    "format_version": 0.12,
    "jupytext_version": "1.6.0"
   }
  },
  "kernelspec": {
   "display_name": "Python 3",
   "language": "python",
   "name": "python3"
  },
  "language_info": {
   "codemirror_mode": {
    "name": "ipython",
    "version": 3
   },
   "file_extension": ".py",
   "mimetype": "text/x-python",
   "name": "python",
   "nbconvert_exporter": "python",
   "pygments_lexer": "ipython3",
   "version": "3.8.5"
  },
  "source_map": [
   13
  ]
 },
 "nbformat": 4,
 "nbformat_minor": 4
}