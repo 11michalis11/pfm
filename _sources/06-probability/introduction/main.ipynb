{
 "cells": [
  {
   "cell_type": "markdown",
   "metadata": {},
   "source": [
    "# Probability\n",
    "\n",
    "Probability is the study of random events. Computers are particularly helpful\n",
    "here as they can be used to carry out a number of experiments to confirm and/or\n",
    "explore theoretic results.\n",
    "\n",
    "> a group of numbers or other symbols arranged in a rectangle that can be used\n",
    "> together as a single unit to solve particular mathematical problems\n",
    "\n",
    "In practice studying probability will often involve:\n",
    "\n",
    "- calculating expected chances of an event occurring;\n",
    "- calculating the conditional chances of an event occurring given another event\n",
    "  occurring.\n",
    "\n",
    "Here we will see how to instruct a computer to sample such events.\n",
    "\n",
    "\n",
    "\n",
    "```{toctree}\n",
    ":hidden:\n",
    ":titlesonly:\n",
    "\n",
    "\n",
    "../tutorial/main\n",
    "../how/main\n",
    "../exercises/main\n",
    "../why/main\n",
    "```"
   ]
  }
 ],
 "metadata": {
  "jupytext": {
   "formats": "ipynb,md:myst",
   "text_representation": {
    "extension": ".md",
    "format_name": "myst",
    "format_version": 0.12,
    "jupytext_version": "1.6.0"
   }
  },
  "kernelspec": {
   "display_name": "Python 3",
   "language": "python",
   "name": "python3"
  },
  "language_info": {
   "codemirror_mode": {
    "name": "ipython",
    "version": 3
   },
   "file_extension": ".py",
   "mimetype": "text/x-python",
   "name": "python",
   "nbconvert_exporter": "python",
   "pygments_lexer": "ipython3",
   "version": "3.8.5"
  },
  "source_map": [
   13
  ]
 },
 "nbformat": 4,
 "nbformat_minor": 4
}